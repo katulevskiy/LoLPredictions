{
 "cells": [
  {
   "cell_type": "code",
   "execution_count": null,
   "id": "initial_id",
   "metadata": {
    "ExecuteTime": {
     "end_time": "2025-02-15T21:27:03.753963Z",
     "start_time": "2025-02-15T21:27:03.462458Z"
    },
    "collapsed": true
   },
   "outputs": [],
   "source": [
    "!pip install pandas numpy matplotlib seaborn networkx scikit-learn"
   ]
  },
  {
   "cell_type": "code",
   "execution_count": 163,
   "id": "89401dc4ecddf320",
   "metadata": {
    "ExecuteTime": {
     "end_time": "2025-02-15T21:28:38.896456Z",
     "start_time": "2025-02-15T21:28:38.413621Z"
    }
   },
   "outputs": [],
   "source": [
    "import pandas as pd\n",
    "import numpy as np\n",
    "import matplotlib.pyplot as plt\n",
    "import seaborn as sns\n",
    "import networkx as nx\n",
    "from sklearn.model_selection import train_test_split\n",
    "from sklearn.metrics import confusion_matrix"
   ]
  },
  {
   "cell_type": "code",
   "execution_count": null,
   "id": "c0c398de3e70225d",
   "metadata": {
    "ExecuteTime": {
     "end_time": "2025-02-15T21:28:40.426630Z",
     "start_time": "2025-02-15T21:28:40.153546Z"
    }
   },
   "outputs": [],
   "source": [
    "df = pd.read_csv('lol_ranked_games.csv')\n",
    "print(df.info())"
   ]
  },
  {
   "cell_type": "code",
   "execution_count": null,
   "id": "1c7b579bcdddd13c",
   "metadata": {
    "ExecuteTime": {
     "end_time": "2025-02-15T22:17:09.778010Z",
     "start_time": "2025-02-15T22:17:09.768092Z"
    }
   },
   "outputs": [],
   "source": [
    "print(\"Total rows:\", df.shape[0])\n",
    "print(\"Total columns:\", df.shape[1])\n",
    "df.tail(10)"
   ]
  },
  {
   "cell_type": "code",
   "execution_count": null,
   "id": "ca52e847854e3353",
   "metadata": {
    "ExecuteTime": {
     "end_time": "2025-02-15T21:29:20.948610Z",
     "start_time": "2025-02-15T21:29:20.943140Z"
    }
   },
   "outputs": [],
   "source": [
    "print(\"Missing Data: \\n\", df.isnull().sum())"
   ]
  },
  {
   "cell_type": "code",
   "execution_count": null,
   "id": "5cc2317bbd470266",
   "metadata": {
    "ExecuteTime": {
     "end_time": "2025-02-15T22:11:46.637870Z",
     "start_time": "2025-02-15T22:11:46.516483Z"
    }
   },
   "outputs": [],
   "source": [
    "pd.set_option('display.max_columns', None)\n",
    "pd.set_option('display.max_rows', None)\n",
    "print(df.describe(include='all'))"
   ]
  },
  {
   "cell_type": "code",
   "execution_count": null,
   "id": "2bff4008f38173ac",
   "metadata": {
    "ExecuteTime": {
     "end_time": "2025-02-15T21:30:43.491869Z",
     "start_time": "2025-02-15T21:30:41.255559Z"
    }
   },
   "outputs": [],
   "source": [
    "df.hist(bins=30, figsize=(20, 20))\n",
    "plt.show()"
   ]
  },
  {
   "cell_type": "code",
   "execution_count": null,
   "id": "f45fce33f18818d8",
   "metadata": {
    "ExecuteTime": {
     "end_time": "2025-02-15T21:33:17.204212Z",
     "start_time": "2025-02-15T21:33:12.387698Z"
    }
   },
   "outputs": [],
   "source": [
    "selected_columns = ['goldDiff', 'expDiff', 'kills', 'deaths', 'assists']\n",
    "sns.pairplot(df[selected_columns])\n",
    "plt.show()"
   ]
  },
  {
   "cell_type": "code",
   "execution_count": null,
   "id": "91e7b26eff45b2f4",
   "metadata": {
    "ExecuteTime": {
     "end_time": "2025-02-15T21:34:33.036657Z",
     "start_time": "2025-02-15T21:34:30.509945Z"
    }
   },
   "outputs": [],
   "source": [
    "plt.figure(figsize=(40, 35))\n",
    "sns.heatmap(df.corr(), annot=True, cmap='coolwarm')\n",
    "plt.show()"
   ]
  },
  {
   "cell_type": "code",
   "execution_count": null,
   "id": "694d0dc79090ea01",
   "metadata": {
    "ExecuteTime": {
     "end_time": "2025-02-15T22:17:48.057Z",
     "start_time": "2025-02-15T22:17:46.988601Z"
    }
   },
   "outputs": [],
   "source": [
    "winning_correlation = df.corr()['hasWon'].to_frame().T\n",
    "plt.subplots(figsize=(20, 2))\n",
    "sns.heatmap(winning_correlation)\n",
    "plt.show()"
   ]
  },
  {
   "cell_type": "code",
   "execution_count": null,
   "id": "883641192cf7fc0d",
   "metadata": {
    "ExecuteTime": {
     "end_time": "2025-02-15T22:33:12.383497Z",
     "start_time": "2025-02-15T22:33:12.127766Z"
    }
   },
   "outputs": [],
   "source": [
    "df_f10 = df[df['frame'] == 10]\n",
    "winning_correlation = df_f10.corr()['hasWon'].to_frame().T\n",
    "plt.subplots(figsize=(20, 2))\n",
    "sns.heatmap(winning_correlation)\n",
    "plt.show()"
   ]
  },
  {
   "cell_type": "code",
   "execution_count": null,
   "id": "371a698fa615db0a",
   "metadata": {
    "ExecuteTime": {
     "end_time": "2025-02-15T22:39:02.713297Z",
     "start_time": "2025-02-15T22:39:02.710205Z"
    }
   },
   "outputs": [],
   "source": [
    "high_impact_columns = ['goldDiff', 'expDiff', 'champLevelDiff', 'kills', 'deaths', 'assists', 'isFirstTower', 'isFirstBlood']\n",
    "df_high_impact = df[high_impact_columns]\n",
    "print(df_high_impact.tail(10))"
   ]
  },
  {
   "cell_type": "code",
   "execution_count": null,
   "id": "9803319bf24cc418",
   "metadata": {
    "ExecuteTime": {
     "end_time": "2025-02-15T23:51:24.089810Z",
     "start_time": "2025-02-15T23:51:23.705299Z"
    }
   },
   "outputs": [],
   "source": [
    "#DATA SETUP\n",
    "\n",
    "# Filter for frame=10\n",
    "df_frame_10 = df[df['frame'] == 10].copy()\n",
    "\n",
    "# Create derived columns\n",
    "df_frame_10['kda'] = df_frame_10['kills'] + (df_frame_10['assists'] // 2) - df_frame_10['deaths']\n",
    "df_frame_10['wardsDiff'] = df_frame_10['wardsPlaced'] - df_frame_10['wardsLost']\n",
    "\n",
    "drake_columns_killed = ['killedFireDrake', 'killedWaterDrake', 'killedAirDrake', 'killedEarthDrake']\n",
    "drake_columns_lost = ['lostFireDrake', 'lostWaterDrake', 'lostAirDrake', 'lostEarthDrake']\n",
    "df_frame_10['drakeDiff'] = df[drake_columns_killed].sum(axis=1) - df[drake_columns_lost].sum(axis=1)\n",
    "\n",
    "turrets_destroyed = ['destroyedTopOuterTurret', 'destroyedMidOuterTurret', 'destroyedBotOuterTurret']\n",
    "turret_lost = ['lostTopOuterTurret', 'lostMidOuterTurret', 'lostBotOuterTurret']\n",
    "df_frame_10['laneProgression'] = df[turrets_destroyed].sum(axis=1) - df[turret_lost].sum(axis=1)\n",
    "\n",
    "# Discretize data\n",
    "df_frame_10['goldDiff'] = (df_frame_10['goldDiff'] > 0).astype(int)\n",
    "df_frame_10['expDiff'] = (df_frame_10['expDiff'] > 0).astype(int)\n",
    "df_frame_10['wardsDiff'] = (df_frame_10['wardsDiff'] > 0).astype(int)\n",
    "df_frame_10['drakeDiff'] = (df_frame_10['drakeDiff'] > 0).astype(int)\n",
    "df_frame_10['kda'] = (df_frame_10['kda'] > 1).astype(int)\n",
    "df_frame_10['killedRiftHerald'] = (df_frame_10['killedRiftHerald'] > 0).astype(int)\n",
    "df_frame_10['laneProgression'] = (df_frame_10['laneProgression'] > 0).astype(int)\n",
    "\n",
    "# Select relevant columns\n",
    "df_bn = df_frame_10[['hasWon', 'goldDiff', 'expDiff', 'kda', 'wardsDiff', 'isFirstBlood', 'isFirstTower',\n",
    "                     'killedRiftHerald', 'drakeDiff', 'laneProgression']]\n",
    "print(df_bn.head(20))\n",
    "\n",
    "# Define Bayesian network edges manually based on provided design with separate goldDiff and expDiff\n",
    "edges = [\n",
    "    ('kda', 'goldDiff'),\n",
    "    ('kda', 'expDiff'),\n",
    "    ('isFirstBlood', 'kda'),\n",
    "    ('drakeDiff', 'kda'),\n",
    "    ('wardsDiff', 'drakeDiff'),\n",
    "    ('wardsDiff', 'isFirstBlood'),\n",
    "    ('wardsDiff', 'kda'),\n",
    "    ('isFirstTower', 'laneProgression'),\n",
    "    ('laneProgression', 'hasWon'),\n",
    "    ('killedRiftHerald', 'laneProgression'),\n",
    "    ('killedRiftHerald', 'isFirstTower'),\n",
    "    ('drakeDiff', 'kda'),\n",
    "    ('isFirstTower', 'kda'),\n",
    "    ('goldDiff', 'hasWon'),\n",
    "    ('expDiff', 'hasWon')\n",
    "]\n",
    "\n",
    "# Visualize the network\n",
    "plt.figure(figsize=(12, 8))\n",
    "G = nx.DiGraph(edges)\n",
    "nx.draw(G, with_labels=True, node_size=3000, node_color='lightblue', font_size=15, font_weight='bold')\n",
    "plt.title('Bayesian Network for LoL Data with Separate goldDiff and expDiff Nodes')\n",
    "plt.show()"
   ]
  },
  {
   "cell_type": "code",
   "execution_count": 183,
   "id": "ba547d98",
   "metadata": {},
   "outputs": [
    {
     "name": "stdout",
     "output_type": "stream",
     "text": [
      "Training Set Size: 19929, Testing Set Size: 4983\n"
     ]
    },
    {
     "data": {
      "text/html": [
       "<div>\n",
       "<style scoped>\n",
       "    .dataframe tbody tr th:only-of-type {\n",
       "        vertical-align: middle;\n",
       "    }\n",
       "\n",
       "    .dataframe tbody tr th {\n",
       "        vertical-align: top;\n",
       "    }\n",
       "\n",
       "    .dataframe thead th {\n",
       "        text-align: right;\n",
       "    }\n",
       "</style>\n",
       "<table border=\"1\" class=\"dataframe\">\n",
       "  <thead>\n",
       "    <tr style=\"text-align: right;\">\n",
       "      <th></th>\n",
       "      <th></th>\n",
       "      <th>hasWon</th>\n",
       "      <th>0</th>\n",
       "      <th>1</th>\n",
       "    </tr>\n",
       "    <tr>\n",
       "      <th>goldDiff</th>\n",
       "      <th>expDiff</th>\n",
       "      <th>laneProgression</th>\n",
       "      <th></th>\n",
       "      <th></th>\n",
       "    </tr>\n",
       "  </thead>\n",
       "  <tbody>\n",
       "    <tr>\n",
       "      <th rowspan=\"4\" valign=\"top\">0</th>\n",
       "      <th rowspan=\"2\" valign=\"top\">0</th>\n",
       "      <th>0</th>\n",
       "      <td>0.750239</td>\n",
       "      <td>0.249761</td>\n",
       "    </tr>\n",
       "    <tr>\n",
       "      <th>1</th>\n",
       "      <td>0.878788</td>\n",
       "      <td>0.121212</td>\n",
       "    </tr>\n",
       "    <tr>\n",
       "      <th rowspan=\"2\" valign=\"top\">1</th>\n",
       "      <th>0</th>\n",
       "      <td>0.522930</td>\n",
       "      <td>0.477070</td>\n",
       "    </tr>\n",
       "    <tr>\n",
       "      <th>1</th>\n",
       "      <td>0.333333</td>\n",
       "      <td>0.666667</td>\n",
       "    </tr>\n",
       "    <tr>\n",
       "      <th rowspan=\"4\" valign=\"top\">1</th>\n",
       "      <th rowspan=\"2\" valign=\"top\">0</th>\n",
       "      <th>0</th>\n",
       "      <td>0.454657</td>\n",
       "      <td>0.545343</td>\n",
       "    </tr>\n",
       "    <tr>\n",
       "      <th>1</th>\n",
       "      <td>0.360000</td>\n",
       "      <td>0.640000</td>\n",
       "    </tr>\n",
       "    <tr>\n",
       "      <th rowspan=\"2\" valign=\"top\">1</th>\n",
       "      <th>0</th>\n",
       "      <td>0.252596</td>\n",
       "      <td>0.747404</td>\n",
       "    </tr>\n",
       "    <tr>\n",
       "      <th>1</th>\n",
       "      <td>0.118605</td>\n",
       "      <td>0.881395</td>\n",
       "    </tr>\n",
       "  </tbody>\n",
       "</table>\n",
       "</div>"
      ],
      "text/plain": [
       "hasWon                                   0         1\n",
       "goldDiff expDiff laneProgression                    \n",
       "0        0       0                0.750239  0.249761\n",
       "                 1                0.878788  0.121212\n",
       "         1       0                0.522930  0.477070\n",
       "                 1                0.333333  0.666667\n",
       "1        0       0                0.454657  0.545343\n",
       "                 1                0.360000  0.640000\n",
       "         1       0                0.252596  0.747404\n",
       "                 1                0.118605  0.881395"
      ]
     },
     "metadata": {},
     "output_type": "display_data"
    },
    {
     "data": {
      "text/html": [
       "<div>\n",
       "<style scoped>\n",
       "    .dataframe tbody tr th:only-of-type {\n",
       "        vertical-align: middle;\n",
       "    }\n",
       "\n",
       "    .dataframe tbody tr th {\n",
       "        vertical-align: top;\n",
       "    }\n",
       "\n",
       "    .dataframe thead th {\n",
       "        text-align: right;\n",
       "    }\n",
       "</style>\n",
       "<table border=\"1\" class=\"dataframe\">\n",
       "  <thead>\n",
       "    <tr style=\"text-align: right;\">\n",
       "      <th></th>\n",
       "      <th>laneProgression</th>\n",
       "      <th>0</th>\n",
       "      <th>1</th>\n",
       "    </tr>\n",
       "    <tr>\n",
       "      <th>isFirstTower</th>\n",
       "      <th>killedRiftHerald</th>\n",
       "      <th></th>\n",
       "      <th></th>\n",
       "    </tr>\n",
       "  </thead>\n",
       "  <tbody>\n",
       "    <tr>\n",
       "      <th rowspan=\"2\" valign=\"top\">0</th>\n",
       "      <th>0</th>\n",
       "      <td>1.000000</td>\n",
       "      <td>0.000000</td>\n",
       "    </tr>\n",
       "    <tr>\n",
       "      <th>1</th>\n",
       "      <td>1.000000</td>\n",
       "      <td>0.000000</td>\n",
       "    </tr>\n",
       "    <tr>\n",
       "      <th rowspan=\"2\" valign=\"top\">1</th>\n",
       "      <th>0</th>\n",
       "      <td>0.044715</td>\n",
       "      <td>0.955285</td>\n",
       "    </tr>\n",
       "    <tr>\n",
       "      <th>1</th>\n",
       "      <td>0.044776</td>\n",
       "      <td>0.955224</td>\n",
       "    </tr>\n",
       "  </tbody>\n",
       "</table>\n",
       "</div>"
      ],
      "text/plain": [
       "laneProgression                       0         1\n",
       "isFirstTower killedRiftHerald                    \n",
       "0            0                 1.000000  0.000000\n",
       "             1                 1.000000  0.000000\n",
       "1            0                 0.044715  0.955285\n",
       "             1                 0.044776  0.955224"
      ]
     },
     "metadata": {},
     "output_type": "display_data"
    },
    {
     "data": {
      "text/html": [
       "<div>\n",
       "<style scoped>\n",
       "    .dataframe tbody tr th:only-of-type {\n",
       "        vertical-align: middle;\n",
       "    }\n",
       "\n",
       "    .dataframe tbody tr th {\n",
       "        vertical-align: top;\n",
       "    }\n",
       "\n",
       "    .dataframe thead th {\n",
       "        text-align: right;\n",
       "    }\n",
       "</style>\n",
       "<table border=\"1\" class=\"dataframe\">\n",
       "  <thead>\n",
       "    <tr style=\"text-align: right;\">\n",
       "      <th>expDiff</th>\n",
       "      <th>0</th>\n",
       "      <th>1</th>\n",
       "    </tr>\n",
       "    <tr>\n",
       "      <th>kda</th>\n",
       "      <th></th>\n",
       "      <th></th>\n",
       "    </tr>\n",
       "  </thead>\n",
       "  <tbody>\n",
       "    <tr>\n",
       "      <th>0</th>\n",
       "      <td>0.817623</td>\n",
       "      <td>0.182377</td>\n",
       "    </tr>\n",
       "    <tr>\n",
       "      <th>1</th>\n",
       "      <td>0.272180</td>\n",
       "      <td>0.727820</td>\n",
       "    </tr>\n",
       "  </tbody>\n",
       "</table>\n",
       "</div>"
      ],
      "text/plain": [
       "expDiff         0         1\n",
       "kda                        \n",
       "0        0.817623  0.182377\n",
       "1        0.272180  0.727820"
      ]
     },
     "metadata": {},
     "output_type": "display_data"
    },
    {
     "data": {
      "text/html": [
       "<div>\n",
       "<style scoped>\n",
       "    .dataframe tbody tr th:only-of-type {\n",
       "        vertical-align: middle;\n",
       "    }\n",
       "\n",
       "    .dataframe tbody tr th {\n",
       "        vertical-align: top;\n",
       "    }\n",
       "\n",
       "    .dataframe thead th {\n",
       "        text-align: right;\n",
       "    }\n",
       "</style>\n",
       "<table border=\"1\" class=\"dataframe\">\n",
       "  <thead>\n",
       "    <tr style=\"text-align: right;\">\n",
       "      <th></th>\n",
       "      <th></th>\n",
       "      <th></th>\n",
       "      <th>kda</th>\n",
       "      <th>0</th>\n",
       "      <th>1</th>\n",
       "    </tr>\n",
       "    <tr>\n",
       "      <th>isFirstBlood</th>\n",
       "      <th>drakeDiff</th>\n",
       "      <th>wardsDiff</th>\n",
       "      <th>isFirstTower</th>\n",
       "      <th></th>\n",
       "      <th></th>\n",
       "    </tr>\n",
       "  </thead>\n",
       "  <tbody>\n",
       "    <tr>\n",
       "      <th rowspan=\"3\" valign=\"top\">0</th>\n",
       "      <th rowspan=\"2\" valign=\"top\">0</th>\n",
       "      <th rowspan=\"2\" valign=\"top\">1</th>\n",
       "      <th>0</th>\n",
       "      <td>1.000000</td>\n",
       "      <td>0.000000</td>\n",
       "    </tr>\n",
       "    <tr>\n",
       "      <th>1</th>\n",
       "      <td>1.000000</td>\n",
       "      <td>0.000000</td>\n",
       "    </tr>\n",
       "    <tr>\n",
       "      <th>1</th>\n",
       "      <th>1</th>\n",
       "      <th>0</th>\n",
       "      <td>1.000000</td>\n",
       "      <td>0.000000</td>\n",
       "    </tr>\n",
       "    <tr>\n",
       "      <th rowspan=\"4\" valign=\"top\">1</th>\n",
       "      <th rowspan=\"2\" valign=\"top\">0</th>\n",
       "      <th rowspan=\"2\" valign=\"top\">1</th>\n",
       "      <th>0</th>\n",
       "      <td>0.511132</td>\n",
       "      <td>0.488868</td>\n",
       "    </tr>\n",
       "    <tr>\n",
       "      <th>1</th>\n",
       "      <td>0.195122</td>\n",
       "      <td>0.804878</td>\n",
       "    </tr>\n",
       "    <tr>\n",
       "      <th rowspan=\"2\" valign=\"top\">1</th>\n",
       "      <th rowspan=\"2\" valign=\"top\">1</th>\n",
       "      <th>0</th>\n",
       "      <td>0.291797</td>\n",
       "      <td>0.708203</td>\n",
       "    </tr>\n",
       "    <tr>\n",
       "      <th>1</th>\n",
       "      <td>0.082397</td>\n",
       "      <td>0.917603</td>\n",
       "    </tr>\n",
       "  </tbody>\n",
       "</table>\n",
       "</div>"
      ],
      "text/plain": [
       "kda                                                   0         1\n",
       "isFirstBlood drakeDiff wardsDiff isFirstTower                    \n",
       "0            0         1         0             1.000000  0.000000\n",
       "                                 1             1.000000  0.000000\n",
       "             1         1         0             1.000000  0.000000\n",
       "1            0         1         0             0.511132  0.488868\n",
       "                                 1             0.195122  0.804878\n",
       "             1         1         0             0.291797  0.708203\n",
       "                                 1             0.082397  0.917603"
      ]
     },
     "metadata": {},
     "output_type": "display_data"
    },
    {
     "data": {
      "text/html": [
       "<div>\n",
       "<style scoped>\n",
       "    .dataframe tbody tr th:only-of-type {\n",
       "        vertical-align: middle;\n",
       "    }\n",
       "\n",
       "    .dataframe tbody tr th {\n",
       "        vertical-align: top;\n",
       "    }\n",
       "\n",
       "    .dataframe thead th {\n",
       "        text-align: right;\n",
       "    }\n",
       "</style>\n",
       "<table border=\"1\" class=\"dataframe\">\n",
       "  <thead>\n",
       "    <tr style=\"text-align: right;\">\n",
       "      <th>drakeDiff</th>\n",
       "      <th>0</th>\n",
       "      <th>1</th>\n",
       "    </tr>\n",
       "    <tr>\n",
       "      <th>wardsDiff</th>\n",
       "      <th></th>\n",
       "      <th></th>\n",
       "    </tr>\n",
       "  </thead>\n",
       "  <tbody>\n",
       "    <tr>\n",
       "      <th>1</th>\n",
       "      <td>0.615184</td>\n",
       "      <td>0.384816</td>\n",
       "    </tr>\n",
       "  </tbody>\n",
       "</table>\n",
       "</div>"
      ],
      "text/plain": [
       "drakeDiff         0         1\n",
       "wardsDiff                    \n",
       "1          0.615184  0.384816"
      ]
     },
     "metadata": {},
     "output_type": "display_data"
    },
    {
     "data": {
      "text/html": [
       "<div>\n",
       "<style scoped>\n",
       "    .dataframe tbody tr th:only-of-type {\n",
       "        vertical-align: middle;\n",
       "    }\n",
       "\n",
       "    .dataframe tbody tr th {\n",
       "        vertical-align: top;\n",
       "    }\n",
       "\n",
       "    .dataframe thead th {\n",
       "        text-align: right;\n",
       "    }\n",
       "</style>\n",
       "<table border=\"1\" class=\"dataframe\">\n",
       "  <thead>\n",
       "    <tr style=\"text-align: right;\">\n",
       "      <th>isFirstBlood</th>\n",
       "      <th>0</th>\n",
       "      <th>1</th>\n",
       "    </tr>\n",
       "    <tr>\n",
       "      <th>wardsDiff</th>\n",
       "      <th></th>\n",
       "      <th></th>\n",
       "    </tr>\n",
       "  </thead>\n",
       "  <tbody>\n",
       "    <tr>\n",
       "      <th>1</th>\n",
       "      <td>0.009183</td>\n",
       "      <td>0.990817</td>\n",
       "    </tr>\n",
       "  </tbody>\n",
       "</table>\n",
       "</div>"
      ],
      "text/plain": [
       "isFirstBlood         0         1\n",
       "wardsDiff                       \n",
       "1             0.009183  0.990817"
      ]
     },
     "metadata": {},
     "output_type": "display_data"
    },
    {
     "data": {
      "text/html": [
       "<div>\n",
       "<style scoped>\n",
       "    .dataframe tbody tr th:only-of-type {\n",
       "        vertical-align: middle;\n",
       "    }\n",
       "\n",
       "    .dataframe tbody tr th {\n",
       "        vertical-align: top;\n",
       "    }\n",
       "\n",
       "    .dataframe thead th {\n",
       "        text-align: right;\n",
       "    }\n",
       "</style>\n",
       "<table border=\"1\" class=\"dataframe\">\n",
       "  <thead>\n",
       "    <tr style=\"text-align: right;\">\n",
       "      <th>isFirstTower</th>\n",
       "      <th>0</th>\n",
       "      <th>1</th>\n",
       "    </tr>\n",
       "    <tr>\n",
       "      <th>killedRiftHerald</th>\n",
       "      <th></th>\n",
       "      <th></th>\n",
       "    </tr>\n",
       "  </thead>\n",
       "  <tbody>\n",
       "    <tr>\n",
       "      <th>0</th>\n",
       "      <td>0.985750</td>\n",
       "      <td>0.014250</td>\n",
       "    </tr>\n",
       "    <tr>\n",
       "      <th>1</th>\n",
       "      <td>0.899475</td>\n",
       "      <td>0.100525</td>\n",
       "    </tr>\n",
       "  </tbody>\n",
       "</table>\n",
       "</div>"
      ],
      "text/plain": [
       "isFirstTower             0         1\n",
       "killedRiftHerald                    \n",
       "0                 0.985750  0.014250\n",
       "1                 0.899475  0.100525"
      ]
     },
     "metadata": {},
     "output_type": "display_data"
    },
    {
     "data": {
      "text/plain": [
       "{1: 1.0}"
      ]
     },
     "metadata": {},
     "output_type": "display_data"
    },
    {
     "data": {
      "text/plain": [
       "{0: 0.8662250991018114, 1: 0.13377490089818858}"
      ]
     },
     "metadata": {},
     "output_type": "display_data"
    }
   ],
   "source": [
    "#DATA SPLITTING AND CPTS\n",
    "target = 'hasWon'\n",
    "train_data, test_data = train_test_split(df_bn, test_size=0.2, random_state=42)\n",
    "print(f\"Training Set Size: {len(train_data)}, Testing Set Size: {len(test_data)}\")\n",
    "\n",
    "# Calculating CPTs using Maximum Likelihood Estimation(MLE)\n",
    "P_hasWon_given_gd_ed_lp = train_data.groupby(['goldDiff', 'expDiff', 'laneProgression'])['hasWon'].value_counts(normalize=True).unstack().fillna(0)\n",
    "P_lp_given_ft_rh = train_data.groupby(['isFirstTower', 'killedRiftHerald'])['laneProgression'].value_counts(normalize=True).unstack().fillna(0)\n",
    "P_gd_given_k = train_data.groupby('kda')['goldDiff'].value_counts(normalize=True).unstack().fillna(0)\n",
    "P_ed_given_k = train_data.groupby('kda')['expDiff'].value_counts(normalize=True).unstack().fillna(0)\n",
    "P_k_given_fb_dd_wd_ft = train_data.groupby(['isFirstBlood', 'drakeDiff', 'wardsDiff', 'isFirstTower'])['kda'].value_counts(normalize=True).unstack().fillna(0)\n",
    "P_dd_given_wd = train_data.groupby('wardsDiff')['drakeDiff'].value_counts(normalize=True).unstack().fillna(0)\n",
    "P_fb_given_wd = train_data.groupby('wardsDiff')['isFirstBlood'].value_counts(normalize=True).unstack().fillna(0)\n",
    "P_ft_given_rh = train_data.groupby('killedRiftHerald')['isFirstTower'].value_counts(normalize=True).unstack().fillna(0)\n",
    "\n",
    "# Compute marginal probabilities for nodes without parents\n",
    "P_wd = train_data['wardsDiff'].value_counts(normalize=True).to_dict()\n",
    "P_rh = train_data['killedRiftHerald'].value_counts(normalize=True).to_dict()\n",
    "\n",
    "# DATA VISUALIZING\n",
    "display(P_hasWon_given_gd_ed_lp)\n",
    "display(P_lp_given_ft_rh)\n",
    "display(P_ed_given_k)\n",
    "display(P_k_given_fb_dd_wd_ft)\n",
    "display(P_dd_given_wd)\n",
    "display(P_fb_given_wd)\n",
    "display(P_ft_given_rh)\n",
    "display(P_wd)\n",
    "display(P_rh)"
   ]
  },
  {
   "cell_type": "code",
   "execution_count": 184,
   "id": "eb08c3a0",
   "metadata": {},
   "outputs": [],
   "source": [
    "# Training our data\n",
    "def predict_win_probability(evidence):\n",
    "    \"\"\"\n",
    "    Computes P(hasWon | evidence) using the trained Bayesian Network.\n",
    "    \"\"\"\n",
    "    try:\n",
    "        # Extract evidence values\n",
    "        gd, ed, lp = evidence['goldDiff'], evidence['expDiff'], evidence['laneProgression']\n",
    "        k, wd, fb, ft, rh, dd = evidence['kda'], evidence['wardsDiff'], evidence['isFirstBlood'], evidence['isFirstTower'], evidence['killedRiftHerald'], evidence['drakeDiff']\n",
    "\n",
    "        # Compute probability of winning and losing\n",
    "        P_win = P_hasWon_given_gd_ed_lp.loc[gd, ed, lp].get(1, 1e-6)  # P(hasWon=1 | gd, ed, lp)\n",
    "        P_lose = P_hasWon_given_gd_ed_lp.loc[gd, ed, lp].get(0, 1e-6)  # P(hasWon=0 | gd, ed, lp)\n",
    "\n",
    "        # Normalize probabilities\n",
    "        total = P_win + P_lose\n",
    "        P_win /= total\n",
    "        P_lose /= total\n",
    "\n",
    "        return 1 if P_win > P_lose else 0  # Return predicted class\n",
    "    \n",
    "    except KeyError as e:\n",
    "        print(f\"Missing key: {e}, using default probability\")\n",
    "        return np.random.choice([0, 1])  # Randomly assign if missing values"
   ]
  },
  {
   "cell_type": "code",
   "execution_count": 185,
   "id": "58cf7d83",
   "metadata": {},
   "outputs": [
    {
     "name": "stdout",
     "output_type": "stream",
     "text": [
      "Model Accuracy: 0.7078\n"
     ]
    },
    {
     "data": {
      "image/png": "[encoded data removed]",
      "text/plain": [
       "<Figure size 600x500 with 2 Axes>"
      ]
     },
     "metadata": {},
     "output_type": "display_data"
    }
   ],
   "source": [
    "# DATA TESTING AND EVALUATING\n",
    "\n",
    "# Testing data\n",
    "test_data['predicted_hasWon'] = test_data.apply(lambda row: predict_win_probability(row), axis=1)\n",
    "\n",
    "# Compute accuracy\n",
    "accuracy = (test_data['hasWon'] == test_data['predicted_hasWon']).mean()\n",
    "print(f\"Model Accuracy: {accuracy:.4f}\")\n",
    "\n",
    "# Compute confusion matrix\n",
    "cm = confusion_matrix(test_data['hasWon'], test_data['predicted_hasWon'])\n",
    "\n",
    "# Plot confusion matrix\n",
    "plt.figure(figsize=(6, 5))\n",
    "sns.heatmap(cm, annot=True, fmt=\"d\", cmap=\"Blues\", xticklabels=[\"Lose\", \"Win\"], yticklabels=[\"Lose\", \"Win\"])\n",
    "plt.xlabel(\"Predicted\")\n",
    "plt.ylabel(\"Actual\")\n",
    "plt.title(\"Confusion Matrix\")\n",
    "plt.show()"
   ]
  }
 ],
 "metadata": {
  "kernelspec": {
   "display_name": "Python 3",
   "language": "python",
   "name": "python3"
  },
  "language_info": {
   "codemirror_mode": {
    "name": "ipython",
    "version": 2
   },
   "file_extension": ".py",
   "mimetype": "text/x-python",
   "name": "python",
   "nbconvert_exporter": "python",
   "pygments_lexer": "ipython2",
   "version": "2.7.6"
  }
 },
 "nbformat": 4,
 "nbformat_minor": 5
}
